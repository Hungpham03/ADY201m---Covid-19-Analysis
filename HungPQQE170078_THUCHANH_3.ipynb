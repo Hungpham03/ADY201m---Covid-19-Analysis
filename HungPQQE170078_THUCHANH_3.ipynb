{
  "nbformat": 4,
  "nbformat_minor": 0,
  "metadata": {
    "colab": {
      "provenance": [],
      "mount_file_id": "1ryHBYupQxjhiHZugrVMkw6mk6lxXpWjG",
      "authorship_tag": "ABX9TyOprdDjvShDh0Dwmz73+l01",
      "include_colab_link": true
    },
    "kernelspec": {
      "name": "ir",
      "display_name": "R"
    },
    "language_info": {
      "name": "R"
    }
  },
  "cells": [
    {
      "cell_type": "markdown",
      "metadata": {
        "id": "view-in-github",
        "colab_type": "text"
      },
      "source": [
        "<a href=\"https://colab.research.google.com/github/Hungpham03/ADY201m/blob/main/HungPQQE170078_THUCHANH_3.ipynb\" target=\"_parent\"><img src=\"https://colab.research.google.com/assets/colab-badge.svg\" alt=\"Open In Colab\"/></a>"
      ]
    },
    {
      "cell_type": "markdown",
      "source": [
        "#Phần 1: Thao tác dữ liệu"
      ],
      "metadata": {
        "id": "XTvEyU-tjZN3"
      }
    },
    {
      "cell_type": "markdown",
      "source": [
        "1."
      ],
      "metadata": {
        "id": "SU4kkwhmkb6A"
      }
    },
    {
      "cell_type": "code",
      "source": [
        "library(readr)\n",
        "library(tidyverse)\n",
        "library(dplyr)\n",
        "library(lubridate)\n",
        "library(broom)"
      ],
      "metadata": {
        "id": "haFXMTx_kfp3"
      },
      "execution_count": null,
      "outputs": []
    },
    {
      "cell_type": "code",
      "source": [
        "bike = read_csv(\"http://johnmuschelli.com/intro_to_r/data/Bike_Lanes.csv\")"
      ],
      "metadata": {
        "colab": {
          "base_uri": "https://localhost:8080/"
        },
        "id": "-bG2ddVek71z",
        "outputId": "10e77dfe-c82d-48f3-d272-36da9e4868c2"
      },
      "execution_count": null,
      "outputs": [
        {
          "output_type": "stream",
          "name": "stderr",
          "text": [
            "\u001b[1mRows: \u001b[22m\u001b[34m1631\u001b[39m \u001b[1mColumns: \u001b[22m\u001b[34m9\u001b[39m\n",
            "\u001b[36m──\u001b[39m \u001b[1mColumn specification\u001b[22m \u001b[36m────────────────────────────────────────────────────────\u001b[39m\n",
            "\u001b[1mDelimiter:\u001b[22m \",\"\n",
            "\u001b[31mchr\u001b[39m (6): subType, name, block, type, project, route\n",
            "\u001b[32mdbl\u001b[39m (3): numLanes, length, dateInstalled\n",
            "\n",
            "\u001b[36mℹ\u001b[39m Use `spec()` to retrieve the full column specification for this data.\n",
            "\u001b[36mℹ\u001b[39m Specify the column types or set `show_col_types = FALSE` to quiet this message.\n"
          ]
        }
      ]
    },
    {
      "cell_type": "markdown",
      "source": [
        "2."
      ],
      "metadata": {
        "id": "bb99ksLElx6n"
      }
    },
    {
      "cell_type": "code",
      "source": [
        "nrow(bike)"
      ],
      "metadata": {
        "colab": {
          "base_uri": "https://localhost:8080/",
          "height": 34
        },
        "id": "0CVSxKTtlqCn",
        "outputId": "376f8290-6296-4f03-dd0b-2069f6c14374"
      },
      "execution_count": null,
      "outputs": [
        {
          "output_type": "display_data",
          "data": {
            "text/html": [
              "1631"
            ],
            "text/markdown": "1631",
            "text/latex": "1631",
            "text/plain": [
              "[1] 1631"
            ]
          },
          "metadata": {}
        }
      ]
    },
    {
      "cell_type": "code",
      "source": [
        "sum(complete.cases(bike))"
      ],
      "metadata": {
        "colab": {
          "base_uri": "https://localhost:8080/",
          "height": 34
        },
        "id": "f03Cj_FLlu3C",
        "outputId": "ba8b7e8c-63a3-448a-93f0-aebc2b6dc469"
      },
      "execution_count": null,
      "outputs": [
        {
          "output_type": "display_data",
          "data": {
            "text/html": [
              "257"
            ],
            "text/markdown": "257",
            "text/latex": "257",
            "text/plain": [
              "[1] 257"
            ]
          },
          "metadata": {}
        }
      ]
    },
    {
      "cell_type": "markdown",
      "source": [
        "3.\n"
      ],
      "metadata": {
        "id": "4QeoWluMl--_"
      }
    },
    {
      "cell_type": "code",
      "source": [
        "namat =is.na(bike)"
      ],
      "metadata": {
        "id": "52YgITUGmBlA"
      },
      "execution_count": null,
      "outputs": []
    },
    {
      "cell_type": "code",
      "source": [
        "colSums(namat)"
      ],
      "metadata": {
        "colab": {
          "base_uri": "https://localhost:8080/",
          "height": 34
        },
        "id": "kUSsH_SymFID",
        "outputId": "493ebb2b-bba8-4e28-c3e3-c5e887b80958"
      },
      "execution_count": null,
      "outputs": [
        {
          "output_type": "display_data",
          "data": {
            "text/html": [
              "<style>\n",
              ".dl-inline {width: auto; margin:0; padding: 0}\n",
              ".dl-inline>dt, .dl-inline>dd {float: none; width: auto; display: inline-block}\n",
              ".dl-inline>dt::after {content: \":\\0020\"; padding-right: .5ex}\n",
              ".dl-inline>dt:not(:first-of-type) {padding-left: .5ex}\n",
              "</style><dl class=dl-inline><dt>subType</dt><dd>4</dd><dt>name</dt><dd>12</dd><dt>block</dt><dd>215</dd><dt>type</dt><dd>9</dd><dt>numLanes</dt><dd>0</dd><dt>project</dt><dd>74</dd><dt>route</dt><dd>1269</dd><dt>length</dt><dd>0</dd><dt>dateInstalled</dt><dd>0</dd></dl>\n"
            ],
            "text/markdown": "subType\n:   4name\n:   12block\n:   215type\n:   9numLanes\n:   0project\n:   74route\n:   1269length\n:   0dateInstalled\n:   0\n\n",
            "text/latex": "\\begin{description*}\n\\item[subType] 4\n\\item[name] 12\n\\item[block] 215\n\\item[type] 9\n\\item[numLanes] 0\n\\item[project] 74\n\\item[route] 1269\n\\item[length] 0\n\\item[dateInstalled] 0\n\\end{description*}\n",
            "text/plain": [
              "      subType          name         block          type      numLanes \n",
              "            4            12           215             9             0 \n",
              "      project         route        length dateInstalled \n",
              "           74          1269             0             0 "
            ]
          },
          "metadata": {}
        }
      ]
    },
    {
      "cell_type": "code",
      "source": [
        "table(rowSums(namat))"
      ],
      "metadata": {
        "colab": {
          "base_uri": "https://localhost:8080/",
          "height": 69
        },
        "id": "kcYXe9T-mH1O",
        "outputId": "3c04798a-b1d5-47b2-9ccc-1f256f3dd08a"
      },
      "execution_count": null,
      "outputs": [
        {
          "output_type": "display_data",
          "data": {
            "text/plain": [
              "\n",
              "   0    1    2    3    4 \n",
              " 257 1181  182    6    5 "
            ]
          },
          "metadata": {}
        }
      ]
    },
    {
      "cell_type": "markdown",
      "source": [
        "4."
      ],
      "metadata": {
        "id": "Y9zm8gnimSzA"
      }
    },
    {
      "cell_type": "code",
      "source": [
        "tax = read_csv(\"http://johnmuschelli.com/intro_to_r/data/Real_Property_Taxes.csv.gz\")"
      ],
      "metadata": {
        "colab": {
          "base_uri": "https://localhost:8080/"
        },
        "id": "QRxKQqcTmLQI",
        "outputId": "de196101-36ce-48f2-978a-b1b29e96081f"
      },
      "execution_count": null,
      "outputs": [
        {
          "output_type": "stream",
          "name": "stderr",
          "text": [
            "\u001b[1mRows: \u001b[22m\u001b[34m238298\u001b[39m \u001b[1mColumns: \u001b[22m\u001b[34m16\u001b[39m\n",
            "\u001b[36m──\u001b[39m \u001b[1mColumn specification\u001b[22m \u001b[36m────────────────────────────────────────────────────────\u001b[39m\n",
            "\u001b[1mDelimiter:\u001b[22m \",\"\n",
            "\u001b[31mchr\u001b[39m (15): PropertyID, Block, Lot, Ward, Sect, PropertyAddress, LotSize, City...\n",
            "\u001b[32mdbl\u001b[39m  (1): CouncilDistrict\n",
            "\n",
            "\u001b[36mℹ\u001b[39m Use `spec()` to retrieve the full column specification for this data.\n",
            "\u001b[36mℹ\u001b[39m Specify the column types or set `show_col_types = FALSE` to quiet this message.\n"
          ]
        }
      ]
    },
    {
      "cell_type": "code",
      "source": [
        "dim(tax)"
      ],
      "metadata": {
        "colab": {
          "base_uri": "https://localhost:8080/",
          "height": 34
        },
        "id": "pI7E8UP1myHR",
        "outputId": "3bdf5129-98c1-4cd3-efbc-2c6b427c12a9"
      },
      "execution_count": null,
      "outputs": [
        {
          "output_type": "display_data",
          "data": {
            "text/html": [
              "<style>\n",
              ".list-inline {list-style: none; margin:0; padding: 0}\n",
              ".list-inline>li {display: inline-block}\n",
              ".list-inline>li:not(:last-child)::after {content: \"\\00b7\"; padding: 0 .5ex}\n",
              "</style>\n",
              "<ol class=list-inline><li>238298</li><li>16</li></ol>\n"
            ],
            "text/markdown": "1. 238298\n2. 16\n\n\n",
            "text/latex": "\\begin{enumerate*}\n\\item 238298\n\\item 16\n\\end{enumerate*}\n",
            "text/plain": [
              "[1] 238298     16"
            ]
          },
          "metadata": {}
        }
      ]
    },
    {
      "cell_type": "code",
      "source": [
        "nrow(tax)"
      ],
      "metadata": {
        "colab": {
          "base_uri": "https://localhost:8080/",
          "height": 34
        },
        "id": "CZ5-04Z9my3b",
        "outputId": "b336e77a-6da8-4c1c-e72f-94eac652d61d"
      },
      "execution_count": null,
      "outputs": [
        {
          "output_type": "display_data",
          "data": {
            "text/html": [
              "238298"
            ],
            "text/markdown": "238298",
            "text/latex": "238298",
            "text/plain": [
              "[1] 238298"
            ]
          },
          "metadata": {}
        }
      ]
    },
    {
      "cell_type": "code",
      "source": [
        "length(tax$PropertyID)"
      ],
      "metadata": {
        "colab": {
          "base_uri": "https://localhost:8080/",
          "height": 34
        },
        "id": "Hx87UCd-m0cS",
        "outputId": "66f1e126-e44c-490e-bcf9-cb264d7deb6a"
      },
      "execution_count": null,
      "outputs": [
        {
          "output_type": "display_data",
          "data": {
            "text/html": [
              "238298"
            ],
            "text/markdown": "238298",
            "text/latex": "238298",
            "text/plain": [
              "[1] 238298"
            ]
          },
          "metadata": {}
        }
      ]
    },
    {
      "cell_type": "code",
      "source": [
        "sum(is.na(tax$CityTax))"
      ],
      "metadata": {
        "colab": {
          "base_uri": "https://localhost:8080/",
          "height": 34
        },
        "id": "hJSENct6m3ew",
        "outputId": "38c74ec4-2358-4c76-e701-a271159dc545"
      },
      "execution_count": null,
      "outputs": [
        {
          "output_type": "display_data",
          "data": {
            "text/html": [
              "19052"
            ],
            "text/markdown": "19052",
            "text/latex": "19052",
            "text/plain": [
              "[1] 19052"
            ]
          },
          "metadata": {}
        }
      ]
    },
    {
      "cell_type": "code",
      "source": [
        "sum(!is.na(tax$CityTax))"
      ],
      "metadata": {
        "colab": {
          "base_uri": "https://localhost:8080/",
          "height": 34
        },
        "id": "dTIu77Sum7fh",
        "outputId": "20882744-3a05-4385-dbe5-cc9f6fb76fe4"
      },
      "execution_count": null,
      "outputs": [
        {
          "output_type": "display_data",
          "data": {
            "text/html": [
              "219246"
            ],
            "text/markdown": "219246",
            "text/latex": "219246",
            "text/plain": [
              "[1] 219246"
            ]
          },
          "metadata": {}
        }
      ]
    },
    {
      "cell_type": "markdown",
      "source": [
        "# Phần 2: Thực hành Chuẩn hóa dữ liệu"
      ],
      "metadata": {
        "id": "P28lVuU3nXIH"
      }
    },
    {
      "cell_type": "markdown",
      "source": [
        "1."
      ],
      "metadata": {
        "id": "Ey_ZVQ9Rncxn"
      }
    },
    {
      "cell_type": "code",
      "source": [
        "rm(list = ls())"
      ],
      "metadata": {
        "id": "Nh0QVsy-m_kE"
      },
      "execution_count": null,
      "outputs": []
    },
    {
      "cell_type": "code",
      "source": [
        "data = c(1200,34567,3456,12,3456,0985,1211,100000)"
      ],
      "metadata": {
        "id": "6ZP8scl5nilS"
      },
      "execution_count": null,
      "outputs": []
    },
    {
      "cell_type": "code",
      "source": [
        "summary(data)"
      ],
      "metadata": {
        "colab": {
          "base_uri": "https://localhost:8080/",
          "height": 52
        },
        "id": "6QVtnkolnsRq",
        "outputId": "6ca8246b-2646-44a6-9d7c-8616d2bf9170"
      },
      "execution_count": null,
      "outputs": [
        {
          "output_type": "display_data",
          "data": {
            "text/plain": [
              "   Min. 1st Qu.  Median    Mean 3rd Qu.    Max. \n",
              "     12    1146    2334   18111   11234  100000 "
            ]
          },
          "metadata": {}
        }
      ]
    },
    {
      "cell_type": "code",
      "source": [
        "scale_data <- as.data.frame(scale(data))"
      ],
      "metadata": {
        "id": "UJ-dN1IJnvAy"
      },
      "execution_count": null,
      "outputs": []
    },
    {
      "cell_type": "code",
      "source": [
        "summary(scale_data)"
      ],
      "metadata": {
        "colab": {
          "base_uri": "https://localhost:8080/",
          "height": 138
        },
        "id": "Igf4KNv0n0G1",
        "outputId": "70877af7-9f89-4456-e59f-5ff22e5a5637"
      },
      "execution_count": null,
      "outputs": [
        {
          "output_type": "display_data",
          "data": {
            "text/plain": [
              "       V1         \n",
              " Min.   :-0.5164  \n",
              " 1st Qu.:-0.4840  \n",
              " Median :-0.4502  \n",
              " Mean   : 0.0000  \n",
              " 3rd Qu.:-0.1962  \n",
              " Max.   : 2.3365  "
            ]
          },
          "metadata": {}
        }
      ]
    },
    {
      "cell_type": "markdown",
      "source": [
        "2."
      ],
      "metadata": {
        "id": "ApOaYcHrn5RX"
      }
    },
    {
      "cell_type": "code",
      "source": [
        "rm(list = ls())"
      ],
      "metadata": {
        "id": "39e1GihOn2O1"
      },
      "execution_count": null,
      "outputs": []
    },
    {
      "cell_type": "code",
      "source": [
        "data = c(1200,34567,3456,12,3456,0985,1211)"
      ],
      "metadata": {
        "id": "TNV19pRIoAAQ"
      },
      "execution_count": null,
      "outputs": []
    },
    {
      "cell_type": "code",
      "source": [
        "summary(data)"
      ],
      "metadata": {
        "colab": {
          "base_uri": "https://localhost:8080/",
          "height": 52
        },
        "id": "koy9k99zoGkI",
        "outputId": "0e1aeb5d-6883-4e28-e210-4061684951e8"
      },
      "execution_count": null,
      "outputs": [
        {
          "output_type": "display_data",
          "data": {
            "text/plain": [
              "   Min. 1st Qu.  Median    Mean 3rd Qu.    Max. \n",
              "     12    1092    1211    6412    3456   34567 "
            ]
          },
          "metadata": {}
        }
      ]
    },
    {
      "cell_type": "code",
      "source": [
        "log_scale = log(as.data.frame(data))"
      ],
      "metadata": {
        "id": "CfKMYRzgoID7"
      },
      "execution_count": null,
      "outputs": []
    },
    {
      "cell_type": "code",
      "source": [
        "summary(log_scale)"
      ],
      "metadata": {
        "colab": {
          "base_uri": "https://localhost:8080/",
          "height": 138
        },
        "id": "MSGTgF0voLt6",
        "outputId": "0bc385b2-fe96-423d-effa-a1f93a352788"
      },
      "execution_count": null,
      "outputs": [
        {
          "output_type": "display_data",
          "data": {
            "text/plain": [
              "      data       \n",
              " Min.   : 2.485  \n",
              " 1st Qu.: 6.991  \n",
              " Median : 7.099  \n",
              " Mean   : 7.188  \n",
              " 3rd Qu.: 8.148  \n",
              " Max.   :10.451  "
            ]
          },
          "metadata": {}
        }
      ]
    }
  ]
}